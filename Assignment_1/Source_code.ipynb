{
  "nbformat": 4,
  "nbformat_minor": 0,
  "metadata": {
    "colab": {
      "provenance": []
    },
    "kernelspec": {
      "name": "python3",
      "display_name": "Python 3"
    },
    "language_info": {
      "name": "python"
    }
  },
  "cells": [
    {
      "cell_type": "markdown",
      "source": [
        "TASK 1"
      ],
      "metadata": {
        "id": "xiBofMPCpx9I"
      }
    },
    {
      "cell_type": "code",
      "source": [
        "import numpy as np\n",
        "import pandas as pd\n",
        "import matplotlib.pyplot as plt\n",
        "from sklearn.datasets import load_diabetes\n",
        "from sklearn.model_selection import train_test_split\n",
        "from sklearn.linear_model import LinearRegression\n",
        "from sklearn.feature_selection import RFE\n",
        "from sklearn.metrics import r2_score\n",
        "from sklearn.linear_model import Lasso\n",
        "\n",
        "# Loading dataset\n",
        "diabetes = load_diabetes()\n",
        "X, y = diabetes.data, diabetes.target\n",
        "feature_names = diabetes.feature_names  # Feature names\n",
        "\n",
        "# Dataframe\n",
        "df = pd.DataFrame(X, columns=feature_names)\n",
        "df[\"target\"] = y\n",
        "\n",
        "# Display\n",
        "print(\"Dataset Information:\")\n",
        "print(df.info())\n",
        "print(\"\\nFirst 5 rows of the dataset:\")\n",
        "print(df.head())\n",
        "\n",
        "# Split data (80% train, 20% test)\n",
        "X_train, X_test, y_train, y_test = train_test_split(X, y, test_size=0.2, random_state=42)\n"
      ],
      "metadata": {
        "colab": {
          "base_uri": "https://localhost:8080/"
        },
        "id": "ANDUx9KhNTnQ",
        "outputId": "3425d494-10b7-4d2f-a733-305a24efe038"
      },
      "execution_count": 19,
      "outputs": [
        {
          "output_type": "stream",
          "name": "stdout",
          "text": [
            "Dataset Information:\n",
            "<class 'pandas.core.frame.DataFrame'>\n",
            "RangeIndex: 442 entries, 0 to 441\n",
            "Data columns (total 11 columns):\n",
            " #   Column  Non-Null Count  Dtype  \n",
            "---  ------  --------------  -----  \n",
            " 0   age     442 non-null    float64\n",
            " 1   sex     442 non-null    float64\n",
            " 2   bmi     442 non-null    float64\n",
            " 3   bp      442 non-null    float64\n",
            " 4   s1      442 non-null    float64\n",
            " 5   s2      442 non-null    float64\n",
            " 6   s3      442 non-null    float64\n",
            " 7   s4      442 non-null    float64\n",
            " 8   s5      442 non-null    float64\n",
            " 9   s6      442 non-null    float64\n",
            " 10  target  442 non-null    float64\n",
            "dtypes: float64(11)\n",
            "memory usage: 38.1 KB\n",
            "None\n",
            "\n",
            "First 5 rows of the dataset:\n",
            "        age       sex       bmi        bp        s1        s2        s3  \\\n",
            "0  0.038076  0.050680  0.061696  0.021872 -0.044223 -0.034821 -0.043401   \n",
            "1 -0.001882 -0.044642 -0.051474 -0.026328 -0.008449 -0.019163  0.074412   \n",
            "2  0.085299  0.050680  0.044451 -0.005670 -0.045599 -0.034194 -0.032356   \n",
            "3 -0.089063 -0.044642 -0.011595 -0.036656  0.012191  0.024991 -0.036038   \n",
            "4  0.005383 -0.044642 -0.036385  0.021872  0.003935  0.015596  0.008142   \n",
            "\n",
            "         s4        s5        s6  target  \n",
            "0 -0.002592  0.019907 -0.017646   151.0  \n",
            "1 -0.039493 -0.068332 -0.092204    75.0  \n",
            "2 -0.002592  0.002861 -0.025930   141.0  \n",
            "3  0.034309  0.022688 -0.009362   206.0  \n",
            "4 -0.002592 -0.031988 -0.046641   135.0  \n"
          ]
        }
      ]
    },
    {
      "cell_type": "code",
      "source": [
        "# Detailed description of features & target\n",
        "print(diabetes.DESCR)\n"
      ],
      "metadata": {
        "colab": {
          "base_uri": "https://localhost:8080/"
        },
        "id": "Z0xEf3BcRoul",
        "outputId": "71dfcbf9-e5b6-482d-e3b9-b23758c77828"
      },
      "execution_count": 32,
      "outputs": [
        {
          "output_type": "stream",
          "name": "stdout",
          "text": [
            ".. _diabetes_dataset:\n",
            "\n",
            "Diabetes dataset\n",
            "----------------\n",
            "\n",
            "Ten baseline variables, age, sex, body mass index, average blood\n",
            "pressure, and six blood serum measurements were obtained for each of n =\n",
            "442 diabetes patients, as well as the response of interest, a\n",
            "quantitative measure of disease progression one year after baseline.\n",
            "\n",
            "**Data Set Characteristics:**\n",
            "\n",
            ":Number of Instances: 442\n",
            "\n",
            ":Number of Attributes: First 10 columns are numeric predictive values\n",
            "\n",
            ":Target: Column 11 is a quantitative measure of disease progression one year after baseline\n",
            "\n",
            ":Attribute Information:\n",
            "    - age     age in years\n",
            "    - sex\n",
            "    - bmi     body mass index\n",
            "    - bp      average blood pressure\n",
            "    - s1      tc, total serum cholesterol\n",
            "    - s2      ldl, low-density lipoproteins\n",
            "    - s3      hdl, high-density lipoproteins\n",
            "    - s4      tch, total cholesterol / HDL\n",
            "    - s5      ltg, possibly log of serum triglycerides level\n",
            "    - s6      glu, blood sugar level\n",
            "\n",
            "Note: Each of these 10 feature variables have been mean centered and scaled by the standard deviation times the square root of `n_samples` (i.e. the sum of squares of each column totals 1).\n",
            "\n",
            "Source URL:\n",
            "https://www4.stat.ncsu.edu/~boos/var.select/diabetes.html\n",
            "\n",
            "For more information see:\n",
            "Bradley Efron, Trevor Hastie, Iain Johnstone and Robert Tibshirani (2004) \"Least Angle Regression,\" Annals of Statistics (with discussion), 407-499.\n",
            "(https://web.stanford.edu/~hastie/Papers/LARS/LeastAngle_2002.pdf)\n",
            "\n"
          ]
        }
      ]
    },
    {
      "cell_type": "markdown",
      "source": [
        "TASK 2"
      ],
      "metadata": {
        "id": "oHHJthGdqF6N"
      }
    },
    {
      "cell_type": "code",
      "source": [
        "# Training a LR model\n",
        "model = LinearRegression()\n",
        "model.fit(X_train, y_train)\n",
        "\n",
        "# Evaluating on the test set\n",
        "y_pred = model.predict(X_test)\n",
        "r2 = r2_score(y_test, y_pred)\n",
        "\n",
        "print(f\"\\nBaseline Linear Regression R² Score: {r2:.4f}\")\n"
      ],
      "metadata": {
        "colab": {
          "base_uri": "https://localhost:8080/"
        },
        "id": "t9dyF3J8YMoT",
        "outputId": "50641dd8-0841-4d3b-c35f-230b2c88debf"
      },
      "execution_count": 21,
      "outputs": [
        {
          "output_type": "stream",
          "name": "stdout",
          "text": [
            "\n",
            "Baseline Linear Regression R² Score: 0.4526\n"
          ]
        }
      ]
    },
    {
      "cell_type": "markdown",
      "source": [
        "TASK 3"
      ],
      "metadata": {
        "id": "VnawqGeqqS9J"
      }
    },
    {
      "cell_type": "code",
      "source": [
        "# Store results\n",
        "r2_scores = []\n",
        "coeff_table = pd.DataFrame()\n",
        "\n",
        "# Performing RFE iteratively\n",
        "for i in range(len(feature_names), 0, -1):\n",
        "    rfe = RFE(model, n_features_to_select=i)\n",
        "    rfe.fit(X_train, y_train)\n",
        "\n",
        "    r2_scores.append((i, rfe.score(X_test, y_test)))\n",
        "\n",
        "    selected_features = np.array(feature_names)[rfe.support_]\n",
        "    coeff_table[f\"{i} features\"] = pd.Series(rfe.estimator_.coef_, index=selected_features)\n",
        "\n",
        "r2_df = pd.DataFrame(r2_scores, columns=[\"Num Features\", \"R² Score\"])\n",
        "\n",
        "plt.figure(figsize=(8, 5))\n",
        "plt.plot(r2_df[\"Num Features\"], r2_df[\"R² Score\"], marker=\"o\", linestyle=\"-\")\n",
        "plt.xlabel(\"Number of Features\")\n",
        "plt.ylabel(\"R² Score\")\n",
        "plt.title(\"R² Score vs. Number of Features in RFE\")\n",
        "plt.grid(True)\n",
        "plt.show()\n"
      ],
      "metadata": {
        "colab": {
          "base_uri": "https://localhost:8080/",
          "height": 487
        },
        "id": "UF-fFNTeYyh7",
        "outputId": "e42dd211-2685-49b5-d2ce-c69c2272967b"
      },
      "execution_count": 22,
      "outputs": [
        {
          "output_type": "display_data",
          "data": {
            "text/plain": [
              "<Figure size 800x500 with 1 Axes>"
            ],
            "image/png": "[encoded data removed]"
          },
          "metadata": {}
        }
      ]
    },
    {
      "cell_type": "markdown",
      "source": [
        "TASK 4"
      ],
      "metadata": {
        "id": "LI60u37iqXrU"
      }
    },
    {
      "cell_type": "code",
      "source": [
        "\n",
        "coeff_table = {}\n",
        "\n",
        "for i in range(10, 0, -1):\n",
        "    rfe = RFE(model, n_features_to_select=i)\n",
        "    rfe.fit(X_train, y_train)\n",
        "\n",
        "    selected_features = [feature_names[j] for j in range(len(feature_names)) if rfe.support_[j]]\n",
        "    coeff_table[f\"{i} features\"] = pd.Series(rfe.estimator_.coef_, index=selected_features)\n",
        "\n",
        "#DataFrame\n",
        "coeff_df = pd.DataFrame(coeff_table)\n",
        "print(coeff_df)\n"
      ],
      "metadata": {
        "colab": {
          "base_uri": "https://localhost:8080/"
        },
        "id": "1v0mBQjIYzxr",
        "outputId": "3aea8628-6146-410b-ca05-ac3556ebf51d"
      },
      "execution_count": 29,
      "outputs": [
        {
          "output_type": "stream",
          "name": "stdout",
          "text": [
            "     10 features  9 features  8 features  7 features  6 features  5 features  \\\n",
            "age    37.904021         NaN         NaN         NaN         NaN         NaN   \n",
            "bmi   542.428759  542.799508  550.744365  551.866448  557.314167  597.892739   \n",
            "bp    347.703844  354.211438  363.791753  362.356114  350.178667  306.647913   \n",
            "s1   -931.488846 -936.350589 -947.823133 -660.643160 -851.515734 -655.560612   \n",
            "s2    518.062277  528.796592  541.585796  343.348089  591.093315  409.622184   \n",
            "s3    163.419983  167.800414  172.250588         NaN         NaN         NaN   \n",
            "s4    275.317902  270.396514  277.741072  185.140764         NaN         NaN   \n",
            "s5    736.198859  744.447429  761.921177  664.774591  803.121285  728.643647   \n",
            "s6     48.670657   53.350483         NaN         NaN         NaN         NaN   \n",
            "sex  -241.964362 -236.649588 -233.754686 -235.364224 -215.267423         NaN   \n",
            "\n",
            "     4 features  3 features  2 features  1 features  \n",
            "age         NaN         NaN         NaN         NaN  \n",
            "bmi  691.460102  737.685594  732.109021  998.577689  \n",
            "bp          NaN         NaN         NaN         NaN  \n",
            "s1  -592.977874 -228.339889         NaN         NaN  \n",
            "s2   362.950323         NaN         NaN         NaN  \n",
            "s3          NaN         NaN         NaN         NaN  \n",
            "s4          NaN         NaN         NaN         NaN  \n",
            "s5   783.168538  680.224653  562.226535         NaN  \n",
            "s6          NaN         NaN         NaN         NaN  \n",
            "sex         NaN         NaN         NaN         NaN  \n"
          ]
        }
      ]
    },
    {
      "cell_type": "code",
      "source": [
        "#feature ranking\n",
        "rfe_final = RFE(model, n_features_to_select=3)\n",
        "rfe_final.fit(X_train, y_train)\n",
        "\n",
        "# top 3 features\n",
        "selected_features = [feature_names[i] for i in range(len(feature_names)) if rfe_final.support_[i]]\n",
        "print(\"Top 3 Most Important Features:\", selected_features)\n"
      ],
      "metadata": {
        "colab": {
          "base_uri": "https://localhost:8080/"
        },
        "id": "b7mKmjvHbuhD",
        "outputId": "08c8475a-e5c2-49b4-db3b-eb52ef439b50"
      },
      "execution_count": 30,
      "outputs": [
        {
          "output_type": "stream",
          "name": "stdout",
          "text": [
            "Top 3 Most Important Features: ['bmi', 's1', 's5']\n"
          ]
        }
      ]
    },
    {
      "cell_type": "code",
      "source": [
        "# Initial ranking (all features)\n",
        "rfe_full = RFE(model, n_features_to_select=10)\n",
        "rfe_full.fit(X_train, y_train)\n",
        "\n",
        "# Feature ranking comparison\n",
        "ranking_df = pd.DataFrame({\"Feature\": feature_names, \"Initial Rank\": rfe_full.ranking_})\n",
        "ranking_df = ranking_df.sort_values(by=\"Initial Rank\")\n",
        "\n",
        "print(\"Initial Feature Ranking:\")\n",
        "print(ranking_df)\n",
        "\n",
        "print(\"\\nFinal Selected Features:\", selected_features)\n"
      ],
      "metadata": {
        "colab": {
          "base_uri": "https://localhost:8080/"
        },
        "id": "1O869mVwhi95",
        "outputId": "679d2f59-1175-4c8d-91f8-ca3f09fe2991"
      },
      "execution_count": 31,
      "outputs": [
        {
          "output_type": "stream",
          "name": "stdout",
          "text": [
            "Initial Feature Ranking:\n",
            "  Feature  Initial Rank\n",
            "0     age             1\n",
            "1     sex             1\n",
            "2     bmi             1\n",
            "3      bp             1\n",
            "4      s1             1\n",
            "5      s2             1\n",
            "6      s3             1\n",
            "7      s4             1\n",
            "8      s5             1\n",
            "9      s6             1\n",
            "\n",
            "Final Selected Features: ['bmi', 's1', 's5']\n"
          ]
        }
      ]
    },
    {
      "cell_type": "markdown",
      "source": [
        "TASK 5"
      ],
      "metadata": {
        "id": "4_gG2ZB1qjcg"
      }
    },
    {
      "cell_type": "markdown",
      "source": [
        "1. What did you learn about feature selection using RFE?\n",
        "\n",
        "Recursive Feature Elimination (RFE) systematically removes the least important features and ranks them based on their contribution to the model.\n",
        "It helps improve model interpretability by selecting only the most relevant features.\n",
        "Tracking R² scores at each step helps determine the optimal number of features to balance performance and complexity.\n",
        "Feature elimination impacts model coefficients, and some features may not significantly affect predictions."
      ],
      "metadata": {
        "id": "a0WXvKS_qwzj"
      }
    },
    {
      "cell_type": "markdown",
      "source": [
        "2. How does RFE compare to other feature selection methods like LASSO in terms of\n",
        "methodology and results?\n",
        "\n",
        " RFE:\n",
        "- Uses a wrapper method, iteratively removing the least important feature\n",
        "  using a model (e.g., Linear Regression).\n",
        "-Provides a ranked list of features and retains only the most significant ones. Slower but can work with any estimator.\n",
        "\n",
        " LASSO:\n",
        "- Uses L1 regularization, which penalizes large coefficients, forcing some to become exactly zero\n",
        "- Automatically eliminates less important features, without needing to run multiple iterations like RFE. Faster than RFE but depends on the regularization strength (alpha)."
      ],
      "metadata": {
        "id": "hCji7py0qwj6"
      }
    },
    {
      "cell_type": "markdown",
      "source": [
        "3. What insights can you draw about the dataset from the selected features?\n",
        "\n",
        "- Metabolic & lipid-related features (S1 & S5) are crucial for diabetes prediction.\n",
        "- BMI is the dominant factor, reinforcing obesity’s role in diabetes risk.\n",
        "- Age and blood pressure were not as significant, highlighting the stronger impact of metabolic factors."
      ],
      "metadata": {
        "id": "yhSOXWnvsQ54"
      }
    }
  ]
}